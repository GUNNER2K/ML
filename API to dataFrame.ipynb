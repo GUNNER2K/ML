{
  "nbformat": 4,
  "nbformat_minor": 0,
  "metadata": {
    "colab": {
      "name": "Untitled15.ipynb",
      "provenance": []
    },
    "kernelspec": {
      "name": "python3",
      "display_name": "Python 3"
    },
    "language_info": {
      "name": "python"
    }
  },
  "cells": [
    {
      "cell_type": "code",
      "metadata": {
        "id": "SjyRU1AMCsFc"
      },
      "source": [
        "import pandas as pd"
      ],
      "execution_count": 19,
      "outputs": []
    },
    {
      "cell_type": "code",
      "metadata": {
        "colab": {
          "base_uri": "https://localhost:8080/"
        },
        "id": "oXZKVxxc3nbl",
        "outputId": "ccd6d530-8fb8-469b-af31-fceff2a4f6d8"
      },
      "source": [
        "!pip install requests"
      ],
      "execution_count": 1,
      "outputs": [
        {
          "output_type": "stream",
          "name": "stdout",
          "text": [
            "Requirement already satisfied: requests in /usr/local/lib/python3.7/dist-packages (2.23.0)\n",
            "Requirement already satisfied: idna<3,>=2.5 in /usr/local/lib/python3.7/dist-packages (from requests) (2.10)\n",
            "Requirement already satisfied: certifi>=2017.4.17 in /usr/local/lib/python3.7/dist-packages (from requests) (2021.10.8)\n",
            "Requirement already satisfied: chardet<4,>=3.0.2 in /usr/local/lib/python3.7/dist-packages (from requests) (3.0.4)\n",
            "Requirement already satisfied: urllib3!=1.25.0,!=1.25.1,<1.26,>=1.21.1 in /usr/local/lib/python3.7/dist-packages (from requests) (1.24.3)\n"
          ]
        }
      ]
    },
    {
      "cell_type": "code",
      "metadata": {
        "colab": {
          "base_uri": "https://localhost:8080/"
        },
        "id": "AqNJhgd43xAP",
        "outputId": "51d1906b-ca41-4815-9025-a40e7ce7075c"
      },
      "source": [
        "import requests\n",
        "baseurl = 'https://rickandmortyapi.com/api'\n",
        "r=requests.get(baseurl).json()\n",
        "r"
      ],
      "execution_count": 2,
      "outputs": [
        {
          "output_type": "execute_result",
          "data": {
            "text/plain": [
              "{'characters': 'https://rickandmortyapi.com/api/character',\n",
              " 'episodes': 'https://rickandmortyapi.com/api/episode',\n",
              " 'locations': 'https://rickandmortyapi.com/api/location'}"
            ]
          },
          "metadata": {},
          "execution_count": 2
        }
      ]
    },
    {
      "cell_type": "code",
      "metadata": {
        "colab": {
          "base_uri": "https://localhost:8080/"
        },
        "id": "CuunDxH45jcL",
        "outputId": "085bd173-0e97-4bf9-c723-b5d573501492"
      },
      "source": [
        "char = requests.get(r['characters']).json()\n",
        "char['results'][0]"
      ],
      "execution_count": 6,
      "outputs": [
        {
          "output_type": "execute_result",
          "data": {
            "text/plain": [
              "{'created': '2017-11-04T18:48:46.250Z',\n",
              " 'episode': ['https://rickandmortyapi.com/api/episode/1',\n",
              "  'https://rickandmortyapi.com/api/episode/2',\n",
              "  'https://rickandmortyapi.com/api/episode/3',\n",
              "  'https://rickandmortyapi.com/api/episode/4',\n",
              "  'https://rickandmortyapi.com/api/episode/5',\n",
              "  'https://rickandmortyapi.com/api/episode/6',\n",
              "  'https://rickandmortyapi.com/api/episode/7',\n",
              "  'https://rickandmortyapi.com/api/episode/8',\n",
              "  'https://rickandmortyapi.com/api/episode/9',\n",
              "  'https://rickandmortyapi.com/api/episode/10',\n",
              "  'https://rickandmortyapi.com/api/episode/11',\n",
              "  'https://rickandmortyapi.com/api/episode/12',\n",
              "  'https://rickandmortyapi.com/api/episode/13',\n",
              "  'https://rickandmortyapi.com/api/episode/14',\n",
              "  'https://rickandmortyapi.com/api/episode/15',\n",
              "  'https://rickandmortyapi.com/api/episode/16',\n",
              "  'https://rickandmortyapi.com/api/episode/17',\n",
              "  'https://rickandmortyapi.com/api/episode/18',\n",
              "  'https://rickandmortyapi.com/api/episode/19',\n",
              "  'https://rickandmortyapi.com/api/episode/20',\n",
              "  'https://rickandmortyapi.com/api/episode/21',\n",
              "  'https://rickandmortyapi.com/api/episode/22',\n",
              "  'https://rickandmortyapi.com/api/episode/23',\n",
              "  'https://rickandmortyapi.com/api/episode/24',\n",
              "  'https://rickandmortyapi.com/api/episode/25',\n",
              "  'https://rickandmortyapi.com/api/episode/26',\n",
              "  'https://rickandmortyapi.com/api/episode/27',\n",
              "  'https://rickandmortyapi.com/api/episode/28',\n",
              "  'https://rickandmortyapi.com/api/episode/29',\n",
              "  'https://rickandmortyapi.com/api/episode/30',\n",
              "  'https://rickandmortyapi.com/api/episode/31',\n",
              "  'https://rickandmortyapi.com/api/episode/32',\n",
              "  'https://rickandmortyapi.com/api/episode/33',\n",
              "  'https://rickandmortyapi.com/api/episode/34',\n",
              "  'https://rickandmortyapi.com/api/episode/35',\n",
              "  'https://rickandmortyapi.com/api/episode/36',\n",
              "  'https://rickandmortyapi.com/api/episode/37',\n",
              "  'https://rickandmortyapi.com/api/episode/38',\n",
              "  'https://rickandmortyapi.com/api/episode/39',\n",
              "  'https://rickandmortyapi.com/api/episode/40',\n",
              "  'https://rickandmortyapi.com/api/episode/41',\n",
              "  'https://rickandmortyapi.com/api/episode/42',\n",
              "  'https://rickandmortyapi.com/api/episode/43',\n",
              "  'https://rickandmortyapi.com/api/episode/44',\n",
              "  'https://rickandmortyapi.com/api/episode/45',\n",
              "  'https://rickandmortyapi.com/api/episode/46',\n",
              "  'https://rickandmortyapi.com/api/episode/47',\n",
              "  'https://rickandmortyapi.com/api/episode/48',\n",
              "  'https://rickandmortyapi.com/api/episode/49',\n",
              "  'https://rickandmortyapi.com/api/episode/50',\n",
              "  'https://rickandmortyapi.com/api/episode/51'],\n",
              " 'gender': 'Male',\n",
              " 'id': 1,\n",
              " 'image': 'https://rickandmortyapi.com/api/character/avatar/1.jpeg',\n",
              " 'location': {'name': 'Citadel of Ricks',\n",
              "  'url': 'https://rickandmortyapi.com/api/location/3'},\n",
              " 'name': 'Rick Sanchez',\n",
              " 'origin': {'name': 'Earth (C-137)',\n",
              "  'url': 'https://rickandmortyapi.com/api/location/1'},\n",
              " 'species': 'Human',\n",
              " 'status': 'Alive',\n",
              " 'type': '',\n",
              " 'url': 'https://rickandmortyapi.com/api/character/1'}"
            ]
          },
          "metadata": {},
          "execution_count": 6
        }
      ]
    },
    {
      "cell_type": "code",
      "metadata": {
        "colab": {
          "base_uri": "https://localhost:8080/"
        },
        "id": "GcGN8XiU8PwB",
        "outputId": "ee894933-d8b5-4fda-bd87-4c0571913617"
      },
      "source": [
        "episode1=requests.get(char['results'][0]['episode'][0]).json()\n",
        "episode1"
      ],
      "execution_count": 12,
      "outputs": [
        {
          "output_type": "execute_result",
          "data": {
            "text/plain": [
              "{'air_date': 'December 2, 2013',\n",
              " 'characters': ['https://rickandmortyapi.com/api/character/1',\n",
              "  'https://rickandmortyapi.com/api/character/2',\n",
              "  'https://rickandmortyapi.com/api/character/35',\n",
              "  'https://rickandmortyapi.com/api/character/38',\n",
              "  'https://rickandmortyapi.com/api/character/62',\n",
              "  'https://rickandmortyapi.com/api/character/92',\n",
              "  'https://rickandmortyapi.com/api/character/127',\n",
              "  'https://rickandmortyapi.com/api/character/144',\n",
              "  'https://rickandmortyapi.com/api/character/158',\n",
              "  'https://rickandmortyapi.com/api/character/175',\n",
              "  'https://rickandmortyapi.com/api/character/179',\n",
              "  'https://rickandmortyapi.com/api/character/181',\n",
              "  'https://rickandmortyapi.com/api/character/239',\n",
              "  'https://rickandmortyapi.com/api/character/249',\n",
              "  'https://rickandmortyapi.com/api/character/271',\n",
              "  'https://rickandmortyapi.com/api/character/338',\n",
              "  'https://rickandmortyapi.com/api/character/394',\n",
              "  'https://rickandmortyapi.com/api/character/395',\n",
              "  'https://rickandmortyapi.com/api/character/435'],\n",
              " 'created': '2017-11-10T12:56:33.798Z',\n",
              " 'episode': 'S01E01',\n",
              " 'id': 1,\n",
              " 'name': 'Pilot',\n",
              " 'url': 'https://rickandmortyapi.com/api/episode/1'}"
            ]
          },
          "metadata": {},
          "execution_count": 12
        }
      ]
    },
    {
      "cell_type": "code",
      "metadata": {
        "colab": {
          "base_uri": "https://localhost:8080/",
          "height": 676
        },
        "id": "6AV9JmYy5wUQ",
        "outputId": "beaa4b30-7edd-40f3-f0a2-401cfd7d236f"
      },
      "source": [
        "rick_morty={}\n",
        "rick_morty_data2=pd.DataFrame(rick_morty)\n",
        "for i in char['results']:\n",
        "\n",
        "  created = i['created'].split('T')[0]\n",
        "  episode1=requests.get(i['episode'][0]).json()\n",
        "  air_date_ep1 = episode1['air_date']\n",
        "  gender=i['gender']\n",
        "  location=i['location']['name']\n",
        "  name=i['name']\n",
        "  rick_morty={'name':name,'location':location,'gender':gender,'created':created,'air_date_ep1':air_date_ep1}\n",
        "  rick_morty_data1=pd.DataFrame([rick_morty])\n",
        "  rick_morty_data2=pd.concat((rick_morty_data2,rick_morty_data1),axis=0)\n",
        "rick_morty_data = pd.DataFrame(rick_morty_data2)\n",
        "rick_morty_data"
      ],
      "execution_count": 31,
      "outputs": [
        {
          "output_type": "execute_result",
          "data": {
            "text/html": [
              "<div>\n",
              "<style scoped>\n",
              "    .dataframe tbody tr th:only-of-type {\n",
              "        vertical-align: middle;\n",
              "    }\n",
              "\n",
              "    .dataframe tbody tr th {\n",
              "        vertical-align: top;\n",
              "    }\n",
              "\n",
              "    .dataframe thead th {\n",
              "        text-align: right;\n",
              "    }\n",
              "</style>\n",
              "<table border=\"1\" class=\"dataframe\">\n",
              "  <thead>\n",
              "    <tr style=\"text-align: right;\">\n",
              "      <th></th>\n",
              "      <th>name</th>\n",
              "      <th>location</th>\n",
              "      <th>gender</th>\n",
              "      <th>created</th>\n",
              "      <th>air_date_ep1</th>\n",
              "    </tr>\n",
              "  </thead>\n",
              "  <tbody>\n",
              "    <tr>\n",
              "      <th>0</th>\n",
              "      <td>Rick Sanchez</td>\n",
              "      <td>Citadel of Ricks</td>\n",
              "      <td>Male</td>\n",
              "      <td>2017-11-04</td>\n",
              "      <td>December 2, 2013</td>\n",
              "    </tr>\n",
              "    <tr>\n",
              "      <th>0</th>\n",
              "      <td>Morty Smith</td>\n",
              "      <td>Citadel of Ricks</td>\n",
              "      <td>Male</td>\n",
              "      <td>2017-11-04</td>\n",
              "      <td>December 2, 2013</td>\n",
              "    </tr>\n",
              "    <tr>\n",
              "      <th>0</th>\n",
              "      <td>Summer Smith</td>\n",
              "      <td>Earth (Replacement Dimension)</td>\n",
              "      <td>Female</td>\n",
              "      <td>2017-11-04</td>\n",
              "      <td>January 27, 2014</td>\n",
              "    </tr>\n",
              "    <tr>\n",
              "      <th>0</th>\n",
              "      <td>Beth Smith</td>\n",
              "      <td>Earth (Replacement Dimension)</td>\n",
              "      <td>Female</td>\n",
              "      <td>2017-11-04</td>\n",
              "      <td>January 27, 2014</td>\n",
              "    </tr>\n",
              "    <tr>\n",
              "      <th>0</th>\n",
              "      <td>Jerry Smith</td>\n",
              "      <td>Earth (Replacement Dimension)</td>\n",
              "      <td>Male</td>\n",
              "      <td>2017-11-04</td>\n",
              "      <td>January 27, 2014</td>\n",
              "    </tr>\n",
              "    <tr>\n",
              "      <th>0</th>\n",
              "      <td>Abadango Cluster Princess</td>\n",
              "      <td>Abadango</td>\n",
              "      <td>Female</td>\n",
              "      <td>2017-11-04</td>\n",
              "      <td>August 27, 2017</td>\n",
              "    </tr>\n",
              "    <tr>\n",
              "      <th>0</th>\n",
              "      <td>Abradolf Lincler</td>\n",
              "      <td>Testicle Monster Dimension</td>\n",
              "      <td>Male</td>\n",
              "      <td>2017-11-04</td>\n",
              "      <td>April 7, 2014</td>\n",
              "    </tr>\n",
              "    <tr>\n",
              "      <th>0</th>\n",
              "      <td>Adjudicator Rick</td>\n",
              "      <td>Citadel of Ricks</td>\n",
              "      <td>Male</td>\n",
              "      <td>2017-11-04</td>\n",
              "      <td>September 10, 2017</td>\n",
              "    </tr>\n",
              "    <tr>\n",
              "      <th>0</th>\n",
              "      <td>Agency Director</td>\n",
              "      <td>Earth (Replacement Dimension)</td>\n",
              "      <td>Male</td>\n",
              "      <td>2017-11-04</td>\n",
              "      <td>August 6, 2017</td>\n",
              "    </tr>\n",
              "    <tr>\n",
              "      <th>0</th>\n",
              "      <td>Alan Rails</td>\n",
              "      <td>Worldender's lair</td>\n",
              "      <td>Male</td>\n",
              "      <td>2017-11-04</td>\n",
              "      <td>August 13, 2017</td>\n",
              "    </tr>\n",
              "    <tr>\n",
              "      <th>0</th>\n",
              "      <td>Albert Einstein</td>\n",
              "      <td>Earth (Replacement Dimension)</td>\n",
              "      <td>Male</td>\n",
              "      <td>2017-11-04</td>\n",
              "      <td>July 26, 2015</td>\n",
              "    </tr>\n",
              "    <tr>\n",
              "      <th>0</th>\n",
              "      <td>Alexander</td>\n",
              "      <td>Anatomy Park</td>\n",
              "      <td>Male</td>\n",
              "      <td>2017-11-04</td>\n",
              "      <td>December 16, 2013</td>\n",
              "    </tr>\n",
              "    <tr>\n",
              "      <th>0</th>\n",
              "      <td>Alien Googah</td>\n",
              "      <td>Earth (Replacement Dimension)</td>\n",
              "      <td>unknown</td>\n",
              "      <td>2017-11-04</td>\n",
              "      <td>October 1, 2017</td>\n",
              "    </tr>\n",
              "    <tr>\n",
              "      <th>0</th>\n",
              "      <td>Alien Morty</td>\n",
              "      <td>Citadel of Ricks</td>\n",
              "      <td>Male</td>\n",
              "      <td>2017-11-04</td>\n",
              "      <td>April 7, 2014</td>\n",
              "    </tr>\n",
              "    <tr>\n",
              "      <th>0</th>\n",
              "      <td>Alien Rick</td>\n",
              "      <td>Citadel of Ricks</td>\n",
              "      <td>Male</td>\n",
              "      <td>2017-11-04</td>\n",
              "      <td>April 7, 2014</td>\n",
              "    </tr>\n",
              "    <tr>\n",
              "      <th>0</th>\n",
              "      <td>Amish Cyborg</td>\n",
              "      <td>Earth (Replacement Dimension)</td>\n",
              "      <td>Male</td>\n",
              "      <td>2017-11-04</td>\n",
              "      <td>August 16, 2015</td>\n",
              "    </tr>\n",
              "    <tr>\n",
              "      <th>0</th>\n",
              "      <td>Annie</td>\n",
              "      <td>Anatomy Park</td>\n",
              "      <td>Female</td>\n",
              "      <td>2017-11-04</td>\n",
              "      <td>December 16, 2013</td>\n",
              "    </tr>\n",
              "    <tr>\n",
              "      <th>0</th>\n",
              "      <td>Antenna Morty</td>\n",
              "      <td>Citadel of Ricks</td>\n",
              "      <td>Male</td>\n",
              "      <td>2017-11-04</td>\n",
              "      <td>April 7, 2014</td>\n",
              "    </tr>\n",
              "    <tr>\n",
              "      <th>0</th>\n",
              "      <td>Antenna Rick</td>\n",
              "      <td>unknown</td>\n",
              "      <td>Male</td>\n",
              "      <td>2017-11-04</td>\n",
              "      <td>April 7, 2014</td>\n",
              "    </tr>\n",
              "    <tr>\n",
              "      <th>0</th>\n",
              "      <td>Ants in my Eyes Johnson</td>\n",
              "      <td>Interdimensional Cable</td>\n",
              "      <td>Male</td>\n",
              "      <td>2017-11-04</td>\n",
              "      <td>March 17, 2014</td>\n",
              "    </tr>\n",
              "  </tbody>\n",
              "</table>\n",
              "</div>"
            ],
            "text/plain": [
              "                        name  ...        air_date_ep1\n",
              "0               Rick Sanchez  ...    December 2, 2013\n",
              "0                Morty Smith  ...    December 2, 2013\n",
              "0               Summer Smith  ...    January 27, 2014\n",
              "0                 Beth Smith  ...    January 27, 2014\n",
              "0                Jerry Smith  ...    January 27, 2014\n",
              "0  Abadango Cluster Princess  ...     August 27, 2017\n",
              "0           Abradolf Lincler  ...       April 7, 2014\n",
              "0           Adjudicator Rick  ...  September 10, 2017\n",
              "0            Agency Director  ...      August 6, 2017\n",
              "0                 Alan Rails  ...     August 13, 2017\n",
              "0            Albert Einstein  ...       July 26, 2015\n",
              "0                  Alexander  ...   December 16, 2013\n",
              "0               Alien Googah  ...     October 1, 2017\n",
              "0                Alien Morty  ...       April 7, 2014\n",
              "0                 Alien Rick  ...       April 7, 2014\n",
              "0               Amish Cyborg  ...     August 16, 2015\n",
              "0                      Annie  ...   December 16, 2013\n",
              "0              Antenna Morty  ...       April 7, 2014\n",
              "0               Antenna Rick  ...       April 7, 2014\n",
              "0    Ants in my Eyes Johnson  ...      March 17, 2014\n",
              "\n",
              "[20 rows x 5 columns]"
            ]
          },
          "metadata": {},
          "execution_count": 31
        }
      ]
    }
  ]
}