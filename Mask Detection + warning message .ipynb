{
 "cells": [
  {
   "cell_type": "code",
   "execution_count": 3,
   "id": "b1551ef7",
   "metadata": {},
   "outputs": [],
   "source": [
    "import cv2\n",
    "import numpy as np\n",
    "import os"
   ]
  },
  {
   "cell_type": "code",
   "execution_count": null,
   "id": "57be27b0",
   "metadata": {},
   "outputs": [],
   "source": []
  },
  {
   "cell_type": "code",
   "execution_count": 4,
   "id": "c2d5dae0",
   "metadata": {},
   "outputs": [
    {
     "data": {
      "text/plain": [
       "False"
      ]
     },
     "execution_count": 4,
     "metadata": {},
     "output_type": "execute_result"
    }
   ],
   "source": [
    "haar_cascade = cv2.CascadeClassifier('C:/Users/SatyakiBhattacharjee/Desktop/cass.xml')\n",
    "haar_cascade.empty()"
   ]
  },
  {
   "cell_type": "code",
   "execution_count": 3,
   "id": "db8d392a",
   "metadata": {},
   "outputs": [
    {
     "data": {
      "text/plain": [
       "False"
      ]
     },
     "execution_count": 3,
     "metadata": {},
     "output_type": "execute_result"
    }
   ],
   "source": [
    "mouth_cascade = cv2.CascadeClassifier('C:/Users/SatyakiBhattacharjee/Desktop/mouth_cass.xml')\n",
    "mouth_cascade.empty()"
   ]
  },
  {
   "cell_type": "code",
   "execution_count": 2,
   "id": "b0404e7a",
   "metadata": {},
   "outputs": [],
   "source": [
    "from skimage.metrics import structural_similarity\n",
    "def structural_sim(img1,img2):\n",
    "    sim,diff = structural_similarity(img1,img2,full=True,multichannel=True)\n",
    "    return sim"
   ]
  },
  {
   "cell_type": "code",
   "execution_count": null,
   "id": "1630a036",
   "metadata": {},
   "outputs": [
    {
     "name": "stdout",
     "output_type": "stream",
     "text": [
      "Satyaki\n",
      "In 102 Seconds WhatsApp will open and after 15 Seconds Message will be Delivered!\n"
     ]
    }
   ],
   "source": [
    "def no_mask(img):\n",
    "    import cv2\n",
    "    import glob\n",
    "    faces_rect=[]\n",
    "    names=[]\n",
    "    sims=[]\n",
    "    haar_cascade = cv2.CascadeClassifier('C:/Users/SatyakiBhattacharjee/Desktop/cass.xml')\n",
    "    path = 'C:/Users/SatyakiBhattacharjee/Desktop/employee-pic/*.jpg'\n",
    "    file=glob.glob(path)\n",
    "    for i in file:\n",
    "        x=i.split('/')[4].split('\\\\')[1].split('.')[0]\n",
    "        names.append(x)\n",
    "        emp_face = cv2.imread(i)\n",
    "        faces_rect=haar_cascade.detectMultiScale(emp_face,1.1,10)\n",
    "        for (x,y,w,h) in faces_rect:\n",
    "            database_face = emp_face[y:y+h,x:x+h]\n",
    "            f= cv2.resize(img,(database_face.shape[0],database_face.shape[1]))\n",
    "            result = structural_sim(f,database_face)\n",
    "            sims.append(result)\n",
    "            \n",
    "    max_index = sims.index(max(sims))\n",
    "    return names[max_index]\n",
    "import cv2\n",
    "import numpy as np\n",
    "import os\n",
    "res=''\n",
    "haar_cascade = cv2.CascadeClassifier('C:/Users/SatyakiBhattacharjee/Desktop/cass.xml')\n",
    "haar_cascade.empty()\n",
    "mouth_cascade = cv2.CascadeClassifier('C:/Users/SatyakiBhattacharjee/Desktop/mouth_cass.xml')\n",
    "mouth_cascade.empty()\n",
    "cap = cv2.VideoCapture(0)\n",
    "while True:\n",
    "    ret,frame = cap.read()\n",
    "    #gray = cv2.cvtColor(frame, cv2.COLOR_BGR2GRAY)\n",
    "    faces_rect = haar_cascade.detectMultiScale(frame,1.1,30)\n",
    "    for (x,y,w,h) in faces_rect:\n",
    "        face = frame[y:y + h, x:x + w]\n",
    "        #cv2.rectangle(frame,(x,y),(x+w,y+h),(0,255,0),thickness=3)\n",
    "        mouth_rect = mouth_cascade.detectMultiScale(frame,1.1,30)\n",
    "        if(len(mouth_rect)==0):\n",
    "            cv2.putText(frame,'mask on',(frame.shape[0]//2,30),cv2.FONT_HERSHEY_SIMPLEX,1,(255,255,255),3,cv2.LINE_AA)\n",
    "        else:\n",
    "            cv2.putText(frame,'NO MASK DETECTED',(frame.shape[0]//2,30),cv2.FONT_HERSHEY_SIMPLEX,1,(0,0,255),3,cv2.LINE_AA)\n",
    "            for(mx,my,mw,mh) in mouth_rect:\n",
    "                #cv2.rectangle(frame,(mx,my),(mx+mw,my+mh),(0,255,0),thickness=3)\n",
    "                cv2.imwrite('face.jpg',face)\n",
    "                no_mask_face = cv2.imread('C:/Users/SatyakiBhattacharjee/Desktop/ipynb_ML/face.jpg')\n",
    "                res=no_mask(no_mask_face)\n",
    "                cv2.rectangle(frame,(mx,my),(mx+mw,my+mh),(0,255,0),thickness=3)\n",
    "\n",
    "    cv2.imshow('frame',frame)\n",
    "    if cv2.waitKey(1)== ord('q'):\n",
    "        break\n",
    "cap.release()\n",
    "cv2.destroyAllWindows()\n",
    "print(res)\n",
    "import pandas as pd\n",
    "df = pd.read_csv('C:/Users/SatyakiBhattacharjee/Desktop/names.csv')\n",
    "phone_no= df.phone[df.name==res]\n",
    "import pywhatkit as pwt\n",
    "import datetime\n",
    "now = datetime.datetime.now()\n",
    "x=now.strftime('%H:%M:%S')\n",
    "pwt.sendwhatmsg('+91'+str(phone_no).split(' ')[4].split('\\n')[0],'YOU HAVE BEEN DETECTED WITHOUT A MASK KINDLY WEAR A MASK TO AVOID CONSEQUENCES',int(x.split(':')[0]),int(x.split(':')[1])+2)"
   ]
  },
  {
   "cell_type": "code",
   "execution_count": 6,
   "id": "ae901bd9",
   "metadata": {},
   "outputs": [],
   "source": [
    "def no_mask(img):\n",
    "    import cv2\n",
    "    import glob\n",
    "    faces_rect=[]\n",
    "    names=[]\n",
    "    sims=[]\n",
    "    haar_cascade = cv2.CascadeClassifier('C:/Users/SatyakiBhattacharjee/Desktop/cass.xml')\n",
    "    path = 'C:/Users/SatyakiBhattacharjee/Desktop/employee-pic/*.jpg'\n",
    "    file=glob.glob(path)\n",
    "    for i in file:\n",
    "        x=i.split('/')[4].split('\\\\')[1].split('.')[0]\n",
    "        names.append(x)\n",
    "        emp_face = cv2.imread(i)\n",
    "        faces_rect=haar_cascade.detectMultiScale(emp_face,1.1,10)\n",
    "        for (x,y,w,h) in faces_rect:\n",
    "            database_face = emp_face[y:y+h,x:x+h]\n",
    "            f= cv2.resize(img,(database_face.shape[0],database_face.shape[1]))\n",
    "            result = structural_sim(f,database_face)\n",
    "            sims.append(result)\n",
    "        max_index = sims.index(max(sims))\n",
    "    return names[max_index]"
   ]
  },
  {
   "cell_type": "code",
   "execution_count": 48,
   "id": "4c665212",
   "metadata": {},
   "outputs": [
    {
     "name": "stdout",
     "output_type": "stream",
     "text": [
      "()\n"
     ]
    }
   ],
   "source": [
    "import cv2\n",
    "haar_cascade = cv2.CascadeClassifier('C:/Users/SatyakiBhattacharjee/Desktop/cass.xml')\n",
    "im= cv2.imread('C:/Users/SatyakiBhattacharjee/Desktop/sus.jpg')\n",
    "face=haar_cascade.detectMultiScale(im,1.1,)\n",
    "print(face)\n",
    "for (x,y,w,h) in face:\n",
    "    ff = im[y:y+h,x:x+w]\n",
    "    print(no_mask(ff))"
   ]
  },
  {
   "cell_type": "code",
   "execution_count": 21,
   "id": "66f99db7",
   "metadata": {},
   "outputs": [
    {
     "name": "stdout",
     "output_type": "stream",
     "text": [
      "0.35978559223773904\n",
      "1.0\n",
      "0.3899127611456932\n"
     ]
    }
   ],
   "source": [
    "import glob\n",
    "im= cv2.imread('C:/Users/SatyakiBhattacharjee/Desktop/employee-pic/Satyaki.jpg')\n",
    "path = 'C:/Users/SatyakiBhattacharjee/Desktop/employee-pic/*.jpg'\n",
    "face=haar_cascade.detectMultiScale(im,1.1,10)\n",
    "for (x,y,w,h) in face:\n",
    "    ff = im[y:y+h,x:x+w]\n",
    "file=glob.glob(path)\n",
    "for i in file:\n",
    "    x=i.split('/')[4].split('\\\\')[1].split('.')[0]\n",
    "    #names.append(x)\n",
    "    emp_face = cv2.imread(i)\n",
    "    faces_rect=haar_cascade.detectMultiScale(emp_face,1.1,10)\n",
    "    for (x,y,w,h) in faces_rect:\n",
    "        database_face = emp_face[y:y+h,x:x+h]\n",
    "        for (x,y,w,h) in face:\n",
    "            ff = im[y:y+h,x:x+w]\n",
    "            f= cv2.resize(ff,(database_face.shape[0],database_face.shape[1]))\n",
    "            result = structural_sim(f,database_face)\n",
    "            "
   ]
  },
  {
   "cell_type": "code",
   "execution_count": 18,
   "id": "06c355eb",
   "metadata": {},
   "outputs": [
    {
     "data": {
      "text/html": [
       "<div>\n",
       "<style scoped>\n",
       "    .dataframe tbody tr th:only-of-type {\n",
       "        vertical-align: middle;\n",
       "    }\n",
       "\n",
       "    .dataframe tbody tr th {\n",
       "        vertical-align: top;\n",
       "    }\n",
       "\n",
       "    .dataframe thead th {\n",
       "        text-align: right;\n",
       "    }\n",
       "</style>\n",
       "<table border=\"1\" class=\"dataframe\">\n",
       "  <thead>\n",
       "    <tr style=\"text-align: right;\">\n",
       "      <th></th>\n",
       "      <th>name</th>\n",
       "      <th>phone</th>\n",
       "    </tr>\n",
       "  </thead>\n",
       "  <tbody>\n",
       "    <tr>\n",
       "      <th>0</th>\n",
       "      <td>Satyaki</td>\n",
       "      <td>9836577756</td>\n",
       "    </tr>\n",
       "    <tr>\n",
       "      <th>1</th>\n",
       "      <td>Krish</td>\n",
       "      <td>9724812159</td>\n",
       "    </tr>\n",
       "    <tr>\n",
       "      <th>2</th>\n",
       "      <td>Suyog</td>\n",
       "      <td>9637404740</td>\n",
       "    </tr>\n",
       "    <tr>\n",
       "      <th>3</th>\n",
       "      <td>Kuldeep</td>\n",
       "      <td>9172818541</td>\n",
       "    </tr>\n",
       "  </tbody>\n",
       "</table>\n",
       "</div>"
      ],
      "text/plain": [
       "      name       phone\n",
       "0  Satyaki  9836577756\n",
       "1    Krish  9724812159\n",
       "2    Suyog  9637404740\n",
       "3  Kuldeep  9172818541"
      ]
     },
     "execution_count": 18,
     "metadata": {},
     "output_type": "execute_result"
    }
   ],
   "source": [
    "import pandas as pd\n",
    "df = pd.read_csv('C:/Users/SatyakiBhattacharjee/Desktop/names.csv')\n",
    "df"
   ]
  },
  {
   "cell_type": "code",
   "execution_count": 42,
   "id": "b902cf0c",
   "metadata": {},
   "outputs": [
    {
     "data": {
      "text/plain": [
       "'9637404740'"
      ]
     },
     "execution_count": 42,
     "metadata": {},
     "output_type": "execute_result"
    }
   ],
   "source": [
    "ph = df.phone[df['name']=='Suyog']\n",
    "str(ph).split(' ')[4].split('\\n')[0]"
   ]
  },
  {
   "cell_type": "code",
   "execution_count": 12,
   "id": "44fe175a",
   "metadata": {},
   "outputs": [
    {
     "name": "stdout",
     "output_type": "stream",
     "text": [
      "In 13 Seconds WhatsApp will open and after 15 Seconds Message will be Delivered!\n"
     ]
    }
   ],
   "source": [
    "import pywhatkit as pwt\n",
    "import datetime\n",
    "now = datetime.datetime.now()\n",
    "x=now.strftime('%H:%M:%S')\n",
    "pwt.sendwhatmsg(phone_no,'YOU HAVE BEEN DETECTED WITHOUT A MASK , KINDLY WEAR A MASK TO AVOID CONSEQUENCES!',int(x.split(':')[0]),int(x.split(':')[1])+1)"
   ]
  },
  {
   "cell_type": "code",
   "execution_count": null,
   "id": "c738e39c",
   "metadata": {},
   "outputs": [],
   "source": []
  }
 ],
 "metadata": {
  "kernelspec": {
   "display_name": "Python 3 (ipykernel)",
   "language": "python",
   "name": "python3"
  },
  "language_info": {
   "codemirror_mode": {
    "name": "ipython",
    "version": 3
   },
   "file_extension": ".py",
   "mimetype": "text/x-python",
   "name": "python",
   "nbconvert_exporter": "python",
   "pygments_lexer": "ipython3",
   "version": "3.9.7"
  }
 },
 "nbformat": 4,
 "nbformat_minor": 5
}
