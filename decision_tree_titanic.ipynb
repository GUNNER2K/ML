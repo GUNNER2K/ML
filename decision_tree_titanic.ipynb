{
  "nbformat": 4,
  "nbformat_minor": 0,
  "metadata": {
    "colab": {
      "name": "Untitled4.ipynb",
      "provenance": []
    },
    "kernelspec": {
      "name": "python3",
      "display_name": "Python 3"
    },
    "language_info": {
      "name": "python"
    }
  },
  "cells": [
    {
      "cell_type": "code",
      "metadata": {
        "colab": {
          "base_uri": "https://localhost:8080/",
          "height": 423
        },
        "id": "0FCd3WndKkwu",
        "outputId": "28ed0158-82e0-4178-da1b-f8f64c385887"
      },
      "source": [
        "import pandas as pd\n",
        "import numpy as np\n",
        "titanic=pd.read_csv(\"/content/Titanic.csv\")\n",
        "df=titanic.dropna()\n",
        "df\n",
        "X1=df.drop(columns=[\"Survived\",\"Name\"],axis=1)\n",
        "y=df[\"Survived\"]\n",
        "from sklearn.preprocessing import LabelEncoder\n",
        "le_class=LabelEncoder()\n",
        "le_gender=LabelEncoder()\n",
        "X1['PClass1']=le_class.fit_transform(X1['PClass'])\n",
        "X1['gender']=le_class.fit_transform(X1['Sex'])\n",
        "X=X1.drop(columns=[\"PClass\",\"Sex\"],axis=1)\n",
        "X"
      ],
      "execution_count": 40,
      "outputs": [
        {
          "output_type": "execute_result",
          "data": {
            "text/html": [
              "<div>\n",
              "<style scoped>\n",
              "    .dataframe tbody tr th:only-of-type {\n",
              "        vertical-align: middle;\n",
              "    }\n",
              "\n",
              "    .dataframe tbody tr th {\n",
              "        vertical-align: top;\n",
              "    }\n",
              "\n",
              "    .dataframe thead th {\n",
              "        text-align: right;\n",
              "    }\n",
              "</style>\n",
              "<table border=\"1\" class=\"dataframe\">\n",
              "  <thead>\n",
              "    <tr style=\"text-align: right;\">\n",
              "      <th></th>\n",
              "      <th>Age</th>\n",
              "      <th>PClass1</th>\n",
              "      <th>gender</th>\n",
              "    </tr>\n",
              "  </thead>\n",
              "  <tbody>\n",
              "    <tr>\n",
              "      <th>0</th>\n",
              "      <td>29.00</td>\n",
              "      <td>0</td>\n",
              "      <td>0</td>\n",
              "    </tr>\n",
              "    <tr>\n",
              "      <th>1</th>\n",
              "      <td>2.00</td>\n",
              "      <td>0</td>\n",
              "      <td>0</td>\n",
              "    </tr>\n",
              "    <tr>\n",
              "      <th>2</th>\n",
              "      <td>30.00</td>\n",
              "      <td>0</td>\n",
              "      <td>1</td>\n",
              "    </tr>\n",
              "    <tr>\n",
              "      <th>3</th>\n",
              "      <td>25.00</td>\n",
              "      <td>0</td>\n",
              "      <td>0</td>\n",
              "    </tr>\n",
              "    <tr>\n",
              "      <th>4</th>\n",
              "      <td>0.92</td>\n",
              "      <td>0</td>\n",
              "      <td>1</td>\n",
              "    </tr>\n",
              "    <tr>\n",
              "      <th>...</th>\n",
              "      <td>...</td>\n",
              "      <td>...</td>\n",
              "      <td>...</td>\n",
              "    </tr>\n",
              "    <tr>\n",
              "      <th>1308</th>\n",
              "      <td>27.00</td>\n",
              "      <td>2</td>\n",
              "      <td>1</td>\n",
              "    </tr>\n",
              "    <tr>\n",
              "      <th>1309</th>\n",
              "      <td>26.00</td>\n",
              "      <td>2</td>\n",
              "      <td>1</td>\n",
              "    </tr>\n",
              "    <tr>\n",
              "      <th>1310</th>\n",
              "      <td>22.00</td>\n",
              "      <td>2</td>\n",
              "      <td>1</td>\n",
              "    </tr>\n",
              "    <tr>\n",
              "      <th>1311</th>\n",
              "      <td>24.00</td>\n",
              "      <td>2</td>\n",
              "      <td>1</td>\n",
              "    </tr>\n",
              "    <tr>\n",
              "      <th>1312</th>\n",
              "      <td>29.00</td>\n",
              "      <td>2</td>\n",
              "      <td>1</td>\n",
              "    </tr>\n",
              "  </tbody>\n",
              "</table>\n",
              "<p>756 rows × 3 columns</p>\n",
              "</div>"
            ],
            "text/plain": [
              "        Age  PClass1  gender\n",
              "0     29.00        0       0\n",
              "1      2.00        0       0\n",
              "2     30.00        0       1\n",
              "3     25.00        0       0\n",
              "4      0.92        0       1\n",
              "...     ...      ...     ...\n",
              "1308  27.00        2       1\n",
              "1309  26.00        2       1\n",
              "1310  22.00        2       1\n",
              "1311  24.00        2       1\n",
              "1312  29.00        2       1\n",
              "\n",
              "[756 rows x 3 columns]"
            ]
          },
          "metadata": {},
          "execution_count": 40
        }
      ]
    },
    {
      "cell_type": "code",
      "metadata": {
        "colab": {
          "base_uri": "https://localhost:8080/"
        },
        "id": "ImtReDjfRiWr",
        "outputId": "817afc87-40d6-410d-8c03-597739188c67"
      },
      "source": [
        "from sklearn.model_selection import train_test_split\n",
        "X_train,X_test,y_train,y_test = train_test_split(X,y,random_state=0)\n",
        "'''from sklearn import tree\n",
        "model = tree.DecisionTreeClassifier()\n",
        "model.fit(X_train,y_train)\n",
        "accuracy=model.score(X_test,y_test)\n",
        "print(accuracy*100)\n",
        "model.predict([[0,71,1]])\n",
        "'''\n",
        "from sklearn.linear_model import LogisticRegression\n",
        "lr = LogisticRegression()\n",
        "lr.fit(X_train,y_train)\n",
        "prediction=lr.predict(X_test)\n",
        "lr.score(X_test,y_test)"
      ],
      "execution_count": 57,
      "outputs": [
        {
          "output_type": "execute_result",
          "data": {
            "text/plain": [
              "0.7883597883597884"
            ]
          },
          "metadata": {},
          "execution_count": 57
        }
      ]
    }
  ]
}