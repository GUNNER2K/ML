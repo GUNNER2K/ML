{
  "nbformat": 4,
  "nbformat_minor": 0,
  "metadata": {
    "colab": {
      "name": "Untitled22.ipynb",
      "provenance": []
    },
    "kernelspec": {
      "name": "python3",
      "display_name": "Python 3"
    },
    "language_info": {
      "name": "python"
    }
  },
  "cells": [
    {
      "cell_type": "code",
      "metadata": {
        "colab": {
          "base_uri": "https://localhost:8080/"
        },
        "id": "sMaD1V46XxWF",
        "outputId": "37f595f0-689d-4674-a7b4-1addc3858c76"
      },
      "source": [
        "import tensorflow as tf\n",
        "!pip install keras --upgrade"
      ],
      "execution_count": 43,
      "outputs": [
        {
          "output_type": "stream",
          "name": "stdout",
          "text": [
            "Requirement already satisfied: keras in /usr/local/lib/python3.7/dist-packages (2.7.0)\n"
          ]
        }
      ]
    },
    {
      "cell_type": "code",
      "metadata": {
        "colab": {
          "base_uri": "https://localhost:8080/",
          "height": 35
        },
        "id": "xJokkY7FxHCt",
        "outputId": "433f4858-28a5-4b73-d365-a057ec75f782"
      },
      "source": [
        "tf.__version__"
      ],
      "execution_count": 39,
      "outputs": [
        {
          "output_type": "execute_result",
          "data": {
            "application/vnd.google.colaboratory.intrinsic+json": {
              "type": "string"
            },
            "text/plain": [
              "'2.7.0'"
            ]
          },
          "metadata": {},
          "execution_count": 39
        }
      ]
    },
    {
      "cell_type": "code",
      "metadata": {
        "id": "53Bpgx6efU--"
      },
      "source": [
        "import tensorflow_datasets as tfds\n",
        "import tensorflow_hub as hub\n"
      ],
      "execution_count": 3,
      "outputs": []
    },
    {
      "cell_type": "code",
      "metadata": {
        "id": "VZYvwriIf4Th"
      },
      "source": [
        "tfds.list_builders()"
      ],
      "execution_count": null,
      "outputs": []
    },
    {
      "cell_type": "code",
      "metadata": {
        "id": "LFQINkwAlasB"
      },
      "source": [
        "train_data,val_data,test_data = tfds.load(name='imdb_reviews',split=('train[:75%]', 'train[25%:75%]','train[75%:]'),as_supervised=True)\n",
        "\n"
      ],
      "execution_count": 75,
      "outputs": []
    },
    {
      "cell_type": "code",
      "metadata": {
        "id": "ug0BafDkcrM2"
      },
      "source": [
        "train_x,train_y=next(iter(train_data.batch(10)))\n"
      ],
      "execution_count": 21,
      "outputs": []
    },
    {
      "cell_type": "code",
      "metadata": {
        "id": "SC-GRmg2rB-2"
      },
      "source": [
        "numeric_word_model =hub.load('https://tfhub.dev/google/tf2-preview/gnews-swivel-20dim/1')\n"
      ],
      "execution_count": 46,
      "outputs": []
    },
    {
      "cell_type": "code",
      "metadata": {
        "colab": {
          "base_uri": "https://localhost:8080/"
        },
        "id": "lzG0aGwstLw2",
        "outputId": "f33705e7-77ba-4acb-ae49-e2bc44305a6a"
      },
      "source": [
        "hub_layer=hub.KerasLayer(numeric_word_model,input_shape=[],dtype=tf.string,trainable=True)\n",
        "hub_layer"
      ],
      "execution_count": 54,
      "outputs": [
        {
          "output_type": "execute_result",
          "data": {
            "text/plain": [
              "<tensorflow_hub.keras_layer.KerasLayer at 0x7fc0257c9750>"
            ]
          },
          "metadata": {},
          "execution_count": 54
        }
      ]
    },
    {
      "cell_type": "code",
      "metadata": {
        "id": "MBobJQzzwyAF"
      },
      "source": [
        "from tensorflow import keras"
      ],
      "execution_count": 48,
      "outputs": []
    },
    {
      "cell_type": "code",
      "metadata": {
        "colab": {
          "base_uri": "https://localhost:8080/"
        },
        "id": "0fNS-Mh_sife",
        "outputId": "14b24cc2-35ed-4841-ae62-21c7f9a58310"
      },
      "source": [
        "from keras.models import Sequential\n",
        "model=tf.keras.Sequential()\n",
        "model.add(hub_layer)\n",
        "model.add(tf.keras.layers.Dense(16,activation=\"relu\"))\n",
        "model.add(tf.keras.layers.Dense(1,activation=\"sigmoid\"))\n",
        "model.summary()"
      ],
      "execution_count": 55,
      "outputs": [
        {
          "output_type": "stream",
          "name": "stdout",
          "text": [
            "Model: \"sequential_12\"\n",
            "_________________________________________________________________\n",
            " Layer (type)                Output Shape              Param #   \n",
            "=================================================================\n",
            " keras_layer_5 (KerasLayer)  (None, 20)                400020    \n",
            "                                                                 \n",
            " dense (Dense)               (None, 16)                336       \n",
            "                                                                 \n",
            " dense_1 (Dense)             (None, 1)                 17        \n",
            "                                                                 \n",
            "=================================================================\n",
            "Total params: 400,373\n",
            "Trainable params: 400,373\n",
            "Non-trainable params: 0\n",
            "_________________________________________________________________\n"
          ]
        }
      ]
    },
    {
      "cell_type": "code",
      "metadata": {
        "id": "ok0HWGsY9XPs"
      },
      "source": [
        "model.compile(optimizer='adam',\n",
        "              loss='binary_crossentropy',\n",
        "              metrics=['accuracy'])"
      ],
      "execution_count": 63,
      "outputs": []
    },
    {
      "cell_type": "code",
      "metadata": {
        "colab": {
          "base_uri": "https://localhost:8080/"
        },
        "id": "HcdKpSAt9M6V",
        "outputId": "deb236c9-daf8-484c-8dbd-6fa0a1a12b81"
      },
      "source": [
        "model.fit(train_data.batch(512),epochs=20,validation_data=val_data.batch(512),verbose=1)"
      ],
      "execution_count": 77,
      "outputs": [
        {
          "output_type": "stream",
          "name": "stdout",
          "text": [
            "Epoch 1/20\n",
            "37/37 [==============================] - 4s 106ms/step - loss: 0.2445 - accuracy: 0.9070 - val_loss: 0.2309 - val_accuracy: 0.9137\n",
            "Epoch 2/20\n",
            "37/37 [==============================] - 4s 105ms/step - loss: 0.2279 - accuracy: 0.9141 - val_loss: 0.2154 - val_accuracy: 0.9211\n",
            "Epoch 3/20\n",
            "37/37 [==============================] - 4s 102ms/step - loss: 0.2131 - accuracy: 0.9212 - val_loss: 0.2015 - val_accuracy: 0.9271\n",
            "Epoch 4/20\n",
            "37/37 [==============================] - 4s 108ms/step - loss: 0.1997 - accuracy: 0.9275 - val_loss: 0.1889 - val_accuracy: 0.9340\n",
            "Epoch 5/20\n",
            "37/37 [==============================] - 4s 104ms/step - loss: 0.1875 - accuracy: 0.9322 - val_loss: 0.1773 - val_accuracy: 0.9384\n",
            "Epoch 6/20\n",
            "37/37 [==============================] - 4s 105ms/step - loss: 0.1762 - accuracy: 0.9366 - val_loss: 0.1667 - val_accuracy: 0.9428\n",
            "Epoch 7/20\n",
            "37/37 [==============================] - 4s 105ms/step - loss: 0.1658 - accuracy: 0.9421 - val_loss: 0.1567 - val_accuracy: 0.9472\n",
            "Epoch 8/20\n",
            "37/37 [==============================] - 4s 104ms/step - loss: 0.1560 - accuracy: 0.9465 - val_loss: 0.1473 - val_accuracy: 0.9510\n",
            "Epoch 9/20\n",
            "37/37 [==============================] - 4s 105ms/step - loss: 0.1467 - accuracy: 0.9506 - val_loss: 0.1385 - val_accuracy: 0.9542\n",
            "Epoch 10/20\n",
            "37/37 [==============================] - 4s 103ms/step - loss: 0.1379 - accuracy: 0.9534 - val_loss: 0.1300 - val_accuracy: 0.9570\n",
            "Epoch 11/20\n",
            "37/37 [==============================] - 4s 105ms/step - loss: 0.1295 - accuracy: 0.9568 - val_loss: 0.1220 - val_accuracy: 0.9600\n",
            "Epoch 12/20\n",
            "37/37 [==============================] - 4s 104ms/step - loss: 0.1214 - accuracy: 0.9601 - val_loss: 0.1145 - val_accuracy: 0.9631\n",
            "Epoch 13/20\n",
            "37/37 [==============================] - 4s 107ms/step - loss: 0.1139 - accuracy: 0.9643 - val_loss: 0.1073 - val_accuracy: 0.9681\n",
            "Epoch 14/20\n",
            "37/37 [==============================] - 4s 109ms/step - loss: 0.1066 - accuracy: 0.9676 - val_loss: 0.1005 - val_accuracy: 0.9718\n",
            "Epoch 15/20\n",
            "37/37 [==============================] - 4s 104ms/step - loss: 0.0998 - accuracy: 0.9710 - val_loss: 0.0940 - val_accuracy: 0.9742\n",
            "Epoch 16/20\n",
            "37/37 [==============================] - 4s 104ms/step - loss: 0.0933 - accuracy: 0.9743 - val_loss: 0.0880 - val_accuracy: 0.9766\n",
            "Epoch 17/20\n",
            "37/37 [==============================] - 4s 107ms/step - loss: 0.0873 - accuracy: 0.9772 - val_loss: 0.0823 - val_accuracy: 0.9791\n",
            "Epoch 18/20\n",
            "37/37 [==============================] - 4s 103ms/step - loss: 0.0815 - accuracy: 0.9796 - val_loss: 0.0769 - val_accuracy: 0.9815\n",
            "Epoch 19/20\n",
            "37/37 [==============================] - 4s 104ms/step - loss: 0.0761 - accuracy: 0.9811 - val_loss: 0.0719 - val_accuracy: 0.9834\n",
            "Epoch 20/20\n",
            "37/37 [==============================] - 4s 103ms/step - loss: 0.0709 - accuracy: 0.9831 - val_loss: 0.0671 - val_accuracy: 0.9846\n"
          ]
        },
        {
          "output_type": "execute_result",
          "data": {
            "text/plain": [
              "<keras.callbacks.History at 0x7fc023d3f6d0>"
            ]
          },
          "metadata": {},
          "execution_count": 77
        }
      ]
    },
    {
      "cell_type": "code",
      "metadata": {
        "colab": {
          "base_uri": "https://localhost:8080/"
        },
        "id": "a_DPbVnKBSik",
        "outputId": "6ca06583-fe82-442f-d35e-b3a7f6597da8"
      },
      "source": [
        "model.predict([''])"
      ],
      "execution_count": 82,
      "outputs": [
        {
          "output_type": "execute_result",
          "data": {
            "text/plain": [
              "array([[0.01653799]], dtype=float32)"
            ]
          },
          "metadata": {},
          "execution_count": 82
        }
      ]
    }
  ]
}