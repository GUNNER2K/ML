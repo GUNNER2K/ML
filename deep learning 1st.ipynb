{
  "nbformat": 4,
  "nbformat_minor": 0,
  "metadata": {
    "colab": {
      "name": "Untitled21.ipynb",
      "provenance": []
    },
    "kernelspec": {
      "name": "python3",
      "display_name": "Python 3"
    },
    "language_info": {
      "name": "python"
    }
  },
  "cells": [
    {
      "cell_type": "code",
      "metadata": {
        "colab": {
          "base_uri": "https://localhost:8080/"
        },
        "id": "BO4larurOeFB",
        "outputId": "67f34805-0f90-401e-aa8a-658c6b2b0324"
      },
      "source": [
        "import keras\n",
        "from tensorflow.keras.datasets import mnist\n",
        "(trainX, trainy), (testX, testy) = mnist.load_data()\n",
        "trainy.shape"
      ],
      "execution_count": 7,
      "outputs": [
        {
          "output_type": "execute_result",
          "data": {
            "text/plain": [
              "(60000,)"
            ]
          },
          "metadata": {},
          "execution_count": 7
        }
      ]
    },
    {
      "cell_type": "code",
      "metadata": {
        "colab": {
          "base_uri": "https://localhost:8080/"
        },
        "id": "JOj1RYf7Pd2q",
        "outputId": "bde32aec-c95e-4f96-b776-5f414379fe5f"
      },
      "source": [
        "trainy[0]"
      ],
      "execution_count": 8,
      "outputs": [
        {
          "output_type": "execute_result",
          "data": {
            "text/plain": [
              "5"
            ]
          },
          "metadata": {},
          "execution_count": 8
        }
      ]
    },
    {
      "cell_type": "code",
      "metadata": {
        "colab": {
          "base_uri": "https://localhost:8080/",
          "height": 292
        },
        "id": "3JH0b8jePEsK",
        "outputId": "4a1f407f-6a42-4407-b04a-00cd7fd8e831"
      },
      "source": [
        "from matplotlib import pyplot as plt\n",
        "plt.matshow(trainX[0])"
      ],
      "execution_count": 6,
      "outputs": [
        {
          "output_type": "execute_result",
          "data": {
            "text/plain": [
              "<matplotlib.image.AxesImage at 0x7f5d5dc69450>"
            ]
          },
          "metadata": {},
          "execution_count": 6
        },
        {
          "output_type": "display_data",
          "data": {
            "image/png": "[encoded data removed]",
            "text/plain": [
              "<Figure size 288x288 with 1 Axes>"
            ]
          },
          "metadata": {
            "needs_background": "light"
          }
        }
      ]
    },
    {
      "cell_type": "code",
      "metadata": {
        "colab": {
          "base_uri": "https://localhost:8080/"
        },
        "id": "JAlnnAIpQnoi",
        "outputId": "41e287a3-e625-42d0-c86f-a433d815ef67"
      },
      "source": [
        "from keras.models import Sequential\n",
        "from keras.layers import Dense,Activation,Flatten\n",
        "model = Sequential()\n",
        "model.add(Flatten(input_shape=[28,28]))\n",
        "model.add(Dense(20,activation='relu'))\n",
        "model.add(Dense(10,activation='softmax'))\n",
        "model.compile(loss='sparse_categorical_crossentropy',optimizer='adam',metrics=['accuracy'])\n",
        "model.fit(trainX,trainy)\n"
      ],
      "execution_count": 11,
      "outputs": [
        {
          "output_type": "stream",
          "name": "stdout",
          "text": [
            "1875/1875 [==============================] - 4s 2ms/step - loss: 2.4124 - accuracy: 0.3316\n"
          ]
        },
        {
          "output_type": "execute_result",
          "data": {
            "text/plain": [
              "<keras.callbacks.History at 0x7f5d579a8ed0>"
            ]
          },
          "metadata": {},
          "execution_count": 11
        }
      ]
    },
    {
      "cell_type": "code",
      "metadata": {
        "id": "OPmXuqyMUPsa"
      },
      "source": [
        "import numpy as np\n"
      ],
      "execution_count": 18,
      "outputs": []
    },
    {
      "cell_type": "code",
      "metadata": {
        "colab": {
          "base_uri": "https://localhost:8080/",
          "height": 292
        },
        "id": "6gp1GerHUgZZ",
        "outputId": "98707444-af5d-454e-d893-a0f95ebb5ab8"
      },
      "source": [
        "plt.matshow(testX[0])"
      ],
      "execution_count": 22,
      "outputs": [
        {
          "output_type": "execute_result",
          "data": {
            "text/plain": [
              "<matplotlib.image.AxesImage at 0x7f5d582b4ed0>"
            ]
          },
          "metadata": {},
          "execution_count": 22
        },
        {
          "output_type": "display_data",
          "data": {
            "image/png": "[encoded data removed]",
            "text/plain": [
              "<Figure size 288x288 with 1 Axes>"
            ]
          },
          "metadata": {
            "needs_background": "light"
          }
        }
      ]
    },
    {
      "cell_type": "code",
      "metadata": {
        "colab": {
          "base_uri": "https://localhost:8080/"
        },
        "id": "NmENAI1dTNrB",
        "outputId": "9c10ea9d-e8e0-49f9-9e28-ffbedd7cfd54"
      },
      "source": [
        "yp = model.predict(testX)\n",
        "np.argmax(yp[0])"
      ],
      "execution_count": 19,
      "outputs": [
        {
          "output_type": "execute_result",
          "data": {
            "text/plain": [
              "7"
            ]
          },
          "metadata": {},
          "execution_count": 19
        }
      ]
    },
    {
      "cell_type": "code",
      "metadata": {
        "colab": {
          "base_uri": "https://localhost:8080/"
        },
        "id": "tEEDajEIVGvy",
        "outputId": "bb24a282-189b-4447-b4c9-3650a1226b6e"
      },
      "source": [
        "model.evaluate(testX,testy)[1]"
      ],
      "execution_count": 24,
      "outputs": [
        {
          "output_type": "stream",
          "name": "stdout",
          "text": [
            "313/313 [==============================] - 0s 1ms/step - loss: 1.3951 - accuracy: 0.5043\n"
          ]
        },
        {
          "output_type": "execute_result",
          "data": {
            "text/plain": [
              "0.5042999982833862"
            ]
          },
          "metadata": {},
          "execution_count": 24
        }
      ]
    },
    {
      "cell_type": "code",
      "metadata": {
        "colab": {
          "base_uri": "https://localhost:8080/",
          "height": 1000
        },
        "id": "Sl4x6gtJVYQR",
        "outputId": "712f3f27-ac2b-4fe5-9d0b-5161693f611d"
      },
      "source": [
        "scores=[]\n",
        "for i in range(20,50):\n",
        "  model = Sequential()\n",
        "  model.add(Flatten(input_shape=[28,28]))\n",
        "  model.add(Dense(i,activation='relu'))\n",
        "  model.add(Dense(10,activation='relu'))\n",
        "  model.compile(loss='sparse_categorical_crossentropy',optimizer='adam',metrics=['accuracy'])\n",
        "  model.fit(trainX,trainy)\n",
        "  scores.append(model.evaluate(testX,testy)[1])\n"
      ],
      "execution_count": 26,
      "outputs": [
        {
          "output_type": "stream",
          "name": "stdout",
          "text": [
            "1875/1875 [==============================] - 4s 2ms/step - loss: 8.1502 - accuracy: 0.1935\n",
            "313/313 [==============================] - 1s 1ms/step - loss: 2.2565 - accuracy: 0.3296\n",
            "1875/1875 [==============================] - 4s 2ms/step - loss: 3.0563 - accuracy: 0.1092\n",
            "313/313 [==============================] - 1s 1ms/step - loss: 2.3001 - accuracy: 0.1028\n",
            "1875/1875 [==============================] - 4s 2ms/step - loss: 2.6689 - accuracy: 0.1009\n",
            "313/313 [==============================] - 1s 1ms/step - loss: 2.3081 - accuracy: 0.0980\n",
            "1875/1875 [==============================] - 4s 2ms/step - loss: 7.3884 - accuracy: 0.1953\n",
            "313/313 [==============================] - 1s 1ms/step - loss: 2.1946 - accuracy: 0.1132\n",
            "1875/1875 [==============================] - 4s 2ms/step - loss: 13.6743 - accuracy: 0.1024\n",
            "313/313 [==============================] - 1s 1ms/step - loss: 12.9446 - accuracy: 0.0990\n",
            "1875/1875 [==============================] - 4s 2ms/step - loss: 4.2935 - accuracy: 0.1555\n",
            "313/313 [==============================] - 1s 1ms/step - loss: 2.2985 - accuracy: 0.1099\n",
            "1875/1875 [==============================] - 4s 2ms/step - loss: 6.5662 - accuracy: 0.1042\n",
            "313/313 [==============================] - 1s 1ms/step - loss: 2.3026 - accuracy: 0.0980\n",
            "1875/1875 [==============================] - 4s 2ms/step - loss: 14.2571 - accuracy: 0.0977\n",
            "313/313 [==============================] - 1s 1ms/step - loss: 14.5469 - accuracy: 0.0974\n",
            "1875/1875 [==============================] - 4s 2ms/step - loss: 12.6358 - accuracy: 0.0976\n",
            "313/313 [==============================] - 1s 1ms/step - loss: 11.7562 - accuracy: 0.0982\n",
            "1875/1875 [==============================] - 4s 2ms/step - loss: 2.8507 - accuracy: 0.1010\n",
            "313/313 [==============================] - 1s 1ms/step - loss: 2.3163 - accuracy: 0.0980\n",
            "1875/1875 [==============================] - 4s 2ms/step - loss: 12.9903 - accuracy: 0.1092\n",
            "313/313 [==============================] - 1s 1ms/step - loss: 13.7049 - accuracy: 0.0983\n",
            "1875/1875 [==============================] - 4s 2ms/step - loss: 2.8572 - accuracy: 0.1050\n",
            "313/313 [==============================] - 1s 1ms/step - loss: 2.3042 - accuracy: 0.0981\n",
            "1875/1875 [==============================] - 4s 2ms/step - loss: 2.6721 - accuracy: 0.1019\n",
            "313/313 [==============================] - 1s 2ms/step - loss: 2.3051 - accuracy: 0.0981\n",
            "1875/1875 [==============================] - 4s 2ms/step - loss: 14.2136 - accuracy: 0.1036\n",
            "313/313 [==============================] - 1s 1ms/step - loss: 14.2695 - accuracy: 0.1028\n",
            "1875/1875 [==============================] - 4s 2ms/step - loss: 2.6547 - accuracy: 0.1023\n",
            "313/313 [==============================] - 1s 1ms/step - loss: 2.3334 - accuracy: 0.0981\n",
            "1875/1875 [==============================] - 4s 2ms/step - loss: 2.7487 - accuracy: 0.1600\n",
            "313/313 [==============================] - 1s 1ms/step - loss: 2.1957 - accuracy: 0.1543\n",
            "1875/1875 [==============================] - 4s 2ms/step - loss: 2.6815 - accuracy: 0.0981\n",
            "313/313 [==============================] - 1s 1ms/step - loss: 2.3092 - accuracy: 0.0981\n",
            "1875/1875 [==============================] - 4s 2ms/step - loss: 12.2034 - accuracy: 0.1119\n",
            "313/313 [==============================] - 1s 1ms/step - loss: 11.6640 - accuracy: 0.1336\n",
            "1875/1875 [==============================] - 4s 2ms/step - loss: 2.6067 - accuracy: 0.1001\n",
            "313/313 [==============================] - 1s 1ms/step - loss: 2.3233 - accuracy: 0.0980\n",
            "1875/1875 [==============================] - 4s 2ms/step - loss: 5.1776 - accuracy: 0.1697\n",
            "313/313 [==============================] - 1s 1ms/step - loss: 2.1914 - accuracy: 0.1511\n",
            "1875/1875 [==============================] - 4s 2ms/step - loss: 9.6648 - accuracy: 0.1509\n",
            "313/313 [==============================] - 1s 1ms/step - loss: 8.5153 - accuracy: 0.1862\n",
            "1875/1875 [==============================] - 4s 2ms/step - loss: 5.0593 - accuracy: 0.1261\n",
            "313/313 [==============================] - 1s 1ms/step - loss: 2.3040 - accuracy: 0.0980\n",
            "1875/1875 [==============================] - 4s 2ms/step - loss: 5.8589 - accuracy: 0.1717\n",
            "313/313 [==============================] - 1s 1ms/step - loss: 2.2174 - accuracy: 0.1350\n",
            "1875/1875 [==============================] - 4s 2ms/step - loss: 3.0373 - accuracy: 0.1180\n",
            "313/313 [==============================] - 1s 1ms/step - loss: 2.3370 - accuracy: 0.0980\n",
            "1875/1875 [==============================] - 4s 2ms/step - loss: 2.9468 - accuracy: 0.1150\n",
            "313/313 [==============================] - 1s 1ms/step - loss: 2.3001 - accuracy: 0.0997\n",
            "1875/1875 [==============================] - 4s 2ms/step - loss: 3.8128 - accuracy: 0.1285\n",
            "313/313 [==============================] - 1s 1ms/step - loss: 2.3026 - accuracy: 0.0980\n",
            "1875/1875 [==============================] - 4s 2ms/step - loss: 4.8864 - accuracy: 0.1433\n",
            "313/313 [==============================] - 1s 1ms/step - loss: 2.1863 - accuracy: 0.1497\n",
            "1875/1875 [==============================] - 4s 2ms/step - loss: 2.5122 - accuracy: 0.0999\n",
            "313/313 [==============================] - 1s 1ms/step - loss: 2.3242 - accuracy: 0.0981\n",
            "1875/1875 [==============================] - 4s 2ms/step - loss: 2.6589 - accuracy: 0.0997\n",
            "313/313 [==============================] - 1s 1ms/step - loss: 2.3026 - accuracy: 0.0980\n",
            "1875/1875 [==============================] - 4s 2ms/step - loss: 13.4648 - accuracy: 0.1272\n",
            "313/313 [==============================] - 1s 1ms/step - loss: 13.5233 - accuracy: 0.1322\n"
          ]
        },
        {
          "output_type": "error",
          "ename": "AttributeError",
          "evalue": "ignored",
          "traceback": [
            "\u001b[0;31m---------------------------------------------------------------------------\u001b[0m",
            "\u001b[0;31mAttributeError\u001b[0m                            Traceback (most recent call last)",
            "\u001b[0;32m<ipython-input-26-461231847bcf>\u001b[0m in \u001b[0;36m<module>\u001b[0;34m()\u001b[0m\n\u001b[1;32m      8\u001b[0m   \u001b[0mmodel\u001b[0m\u001b[0;34m.\u001b[0m\u001b[0mfit\u001b[0m\u001b[0;34m(\u001b[0m\u001b[0mtrainX\u001b[0m\u001b[0;34m,\u001b[0m\u001b[0mtrainy\u001b[0m\u001b[0;34m)\u001b[0m\u001b[0;34m\u001b[0m\u001b[0;34m\u001b[0m\u001b[0m\n\u001b[1;32m      9\u001b[0m   \u001b[0mscores\u001b[0m\u001b[0;34m.\u001b[0m\u001b[0mappend\u001b[0m\u001b[0;34m(\u001b[0m\u001b[0mmodel\u001b[0m\u001b[0;34m.\u001b[0m\u001b[0mevaluate\u001b[0m\u001b[0;34m(\u001b[0m\u001b[0mtestX\u001b[0m\u001b[0;34m,\u001b[0m\u001b[0mtesty\u001b[0m\u001b[0;34m)\u001b[0m\u001b[0;34m[\u001b[0m\u001b[0;36m1\u001b[0m\u001b[0;34m]\u001b[0m\u001b[0;34m)\u001b[0m\u001b[0;34m\u001b[0m\u001b[0;34m\u001b[0m\u001b[0m\n\u001b[0;32m---> 10\u001b[0;31m \u001b[0mscores\u001b[0m\u001b[0;34m.\u001b[0m\u001b[0mmax\u001b[0m\u001b[0;34m(\u001b[0m\u001b[0;34m)\u001b[0m\u001b[0;34m\u001b[0m\u001b[0;34m\u001b[0m\u001b[0m\n\u001b[0m",
            "\u001b[0;31mAttributeError\u001b[0m: 'list' object has no attribute 'max'"
          ]
        }
      ]
    },
    {
      "cell_type": "code",
      "metadata": {
        "colab": {
          "base_uri": "https://localhost:8080/"
        },
        "id": "FTg8cQQfXa36",
        "outputId": "c07f8e5a-5c59-4bd3-dfc7-eda785b71656"
      },
      "source": [
        "scores"
      ],
      "execution_count": 27,
      "outputs": [
        {
          "output_type": "execute_result",
          "data": {
            "text/plain": [
              "[0.3296000063419342,\n",
              " 0.10279999673366547,\n",
              " 0.09799999743700027,\n",
              " 0.11320000141859055,\n",
              " 0.0989999994635582,\n",
              " 0.10989999771118164,\n",
              " 0.09799999743700027,\n",
              " 0.09740000218153,\n",
              " 0.0982000008225441,\n",
              " 0.09799999743700027,\n",
              " 0.09830000251531601,\n",
              " 0.09809999912977219,\n",
              " 0.09809999912977219,\n",
              " 0.10279999673366547,\n",
              " 0.09809999912977219,\n",
              " 0.1543000042438507,\n",
              " 0.09809999912977219,\n",
              " 0.13359999656677246,\n",
              " 0.09799999743700027,\n",
              " 0.15109999477863312,\n",
              " 0.18619999289512634,\n",
              " 0.09799999743700027,\n",
              " 0.13500000536441803,\n",
              " 0.09799999743700027,\n",
              " 0.09969999641180038,\n",
              " 0.09799999743700027,\n",
              " 0.14970000088214874,\n",
              " 0.09809999912977219,\n",
              " 0.09799999743700027,\n",
              " 0.13220000267028809]"
            ]
          },
          "metadata": {},
          "execution_count": 27
        }
      ]
    }
  ]
}